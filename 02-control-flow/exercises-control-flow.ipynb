{
 "cells": [
  {
   "cell_type": "code",
   "execution_count": 5,
   "id": "4236b846-110b-419a-881b-103d0e23ce0a",
   "metadata": {},
   "outputs": [
    {
     "name": "stdin",
     "output_type": "stream",
     "text": [
      "Enter a number 13\n"
     ]
    },
    {
     "name": "stdout",
     "output_type": "stream",
     "text": [
      "Your number is odd\n"
     ]
    }
   ],
   "source": [
    "# 1.Write a program that asks the user for a number and prints whether it’s odd or even.\n",
    "number = int(input(\"Enter a number\"))\n",
    "if number % 2 == 0:\n",
    "    print('Your number is even')\n",
    "elif number % 2 != 0:\n",
    "    print('Your number is odd')"
   ]
  },
  {
   "cell_type": "code",
   "execution_count": 9,
   "id": "86c0b025-c3f7-4a4c-a3f1-328799d21b54",
   "metadata": {},
   "outputs": [
    {
     "name": "stdout",
     "output_type": "stream",
     "text": [
      "5*0 = 0\n",
      "5*1 = 5\n",
      "5*2 = 10\n",
      "5*3 = 15\n",
      "5*4 = 20\n",
      "5*5 = 25\n",
      "5*6 = 30\n",
      "5*7 = 35\n",
      "5*8 = 40\n",
      "5*9 = 45\n",
      "5*10 = 50\n"
     ]
    }
   ],
   "source": [
    "# 2.Use a for loop to print the multiplication table of 5 (from 5 × 1 up to 5 × 10\n",
    "for i in range(11):\n",
    "    print(f'5*{i} = {5*i}')\n",
    "        "
   ]
  },
  {
   "cell_type": "code",
   "execution_count": 21,
   "id": "2e769d5c-cccf-45bb-aadd-3661810be7a0",
   "metadata": {},
   "outputs": [
    {
     "name": "stdin",
     "output_type": "stream",
     "text": [
      "Enter a number! 5\n"
     ]
    },
    {
     "name": "stdout",
     "output_type": "stream",
     "text": [
      "Factorial of number is 120\n"
     ]
    }
   ],
   "source": [
    "# 3.Write a program that calculates the factorial of a number n using a while loop.\n",
    "n = int(input('Enter a number:'))\n",
    "fact = 1\n",
    "while n > 0:\n",
    "    fact = fact * n\n",
    "    n -=1\n",
    "print(f'Factorial of number is {fact}')"
   ]
  },
  {
   "cell_type": "code",
   "execution_count": 23,
   "id": "56a39ba5-604c-4421-b1bc-381220d41334",
   "metadata": {},
   "outputs": [
    {
     "name": "stdout",
     "output_type": "stream",
     "text": [
      "Sum of 0 to 100 is 5050\n"
     ]
    }
   ],
   "source": [
    "# 4.Write a program that finds the sum of all numbers from 1 to 100 using a loop.\n",
    "sum = 0\n",
    "for i in range(101):\n",
    "    sum += i\n",
    "print('Sum of 0 to 100 is',sum)"
   ]
  },
  {
   "cell_type": "code",
   "execution_count": 39,
   "id": "0e7e901d-7137-47e8-beab-0964b3fe2dd7",
   "metadata": {},
   "outputs": [
    {
     "name": "stdin",
     "output_type": "stream",
     "text": [
      "Enter first_number: 13\n",
      "Enter second_number: 16\n",
      "Enter third_number: 55\n"
     ]
    },
    {
     "name": "stdout",
     "output_type": "stream",
     "text": [
      "The maximum number is : 55\n"
     ]
    }
   ],
   "source": [
    "#5.Write a program that takes three numbers as input and prints the largest one using if/else.\n",
    "first_number = int(input('Enter first_number:'))\n",
    "second_number = int(input('Enter second_number:'))\n",
    "third_number = int(input('Enter third_number:'))\n",
    "max =  first_number\n",
    "if second_number > max :\n",
    "    max = second_number\n",
    "if third_number > max:\n",
    "    max = third_number\n",
    "print('The maximum number is :',max)"
   ]
  },
  {
   "cell_type": "code",
   "execution_count": 49,
   "id": "b7ec7742-1cf5-4804-ac46-83e205c5e74e",
   "metadata": {},
   "outputs": [
    {
     "name": "stdin",
     "output_type": "stream",
     "text": [
      "Enter your word: Arefeh\n"
     ]
    },
    {
     "name": "stdout",
     "output_type": "stream",
     "text": [
      "Count of vowvel sound is: 2\n"
     ]
    }
   ],
   "source": [
    "#6.Ask the user for a word and count how many vowels (a, e, i, o, u) are in it.\n",
    "vowvels = ['a', 'e', 'i', 'o', 'u']\n",
    "count = 0\n",
    "word = input('Enter your word:')\n",
    "word = word.lower()\n",
    "for v in vowvels:\n",
    "    if v in word:\n",
    "        count += 1\n",
    "print(f'Count of vowvel sound is: {count}')"
   ]
  },
  {
   "cell_type": "code",
   "execution_count": 59,
   "id": "78884c8b-dc01-4908-b412-6a86f0241c79",
   "metadata": {},
   "outputs": [
    {
     "name": "stdout",
     "output_type": "stream",
     "text": [
      "nohtyp"
     ]
    }
   ],
   "source": [
    "#7.Use a loop to reverse the string \"Python\" → output: \"nohtyP\".\n",
    "st ='python' \n",
    "for i in range (len(st),0,-1):\n",
    "    print(st[i-1],end='')"
   ]
  },
  {
   "cell_type": "code",
   "execution_count": 61,
   "id": "c1923ecc-1b56-43e7-8cf2-3117f1a494b4",
   "metadata": {},
   "outputs": [
    {
     "name": "stdout",
     "output_type": "stream",
     "text": [
      "1\n",
      "2\n",
      "3\n",
      "5\n",
      "7\n",
      "11\n",
      "13\n",
      "17\n",
      "19\n",
      "23\n",
      "29\n",
      "31\n",
      "37\n",
      "41\n",
      "43\n",
      "47\n"
     ]
    }
   ],
   "source": [
    "#8.Write a program that prints all prime numbers between 1 and 50.\n",
    "for i in range(1,50+1):\n",
    "    bl = True\n",
    "    for j in range(2,i):\n",
    "        if i % j == 0:\n",
    "            bl = False\n",
    "            break\n",
    "    if bl :\n",
    "        print(i)\n",
    "    "
   ]
  },
  {
   "cell_type": "code",
   "execution_count": 67,
   "id": "f32b5d92-44c2-433a-acf0-172868a6a4b8",
   "metadata": {},
   "outputs": [
    {
     "name": "stdin",
     "output_type": "stream",
     "text": [
      "Enter your guess 12\n"
     ]
    },
    {
     "name": "stdout",
     "output_type": "stream",
     "text": [
      "Too high\n"
     ]
    },
    {
     "name": "stdin",
     "output_type": "stream",
     "text": [
      "Try again! 6\n"
     ]
    },
    {
     "name": "stdout",
     "output_type": "stream",
     "text": [
      "Too high\n"
     ]
    },
    {
     "name": "stdin",
     "output_type": "stream",
     "text": [
      "Try again! 3\n"
     ]
    },
    {
     "name": "stdout",
     "output_type": "stream",
     "text": [
      "you win!\n"
     ]
    }
   ],
   "source": [
    "''' \n",
    "9.Write a program that generates a secret number (1–10).\n",
    "Ask the user to guess until they get it right.\n",
    "Give hints (“Too high”, “Too low”) until correct.\n",
    "'''\n",
    "import random\n",
    "secret_number = random.randint(1,10)\n",
    "guess = int(input('Enter your guess'))\n",
    "while True:\n",
    "    \n",
    "    if guess == secret_number :\n",
    "        print('you win!')\n",
    "        break\n",
    "    elif guess > secret_number :\n",
    "        print('Too high')\n",
    "        guess = int(input('Try again!'))\n",
    "    elif guess < second_number :\n",
    "        print('Too low')\n",
    "        guess = int(input('Try again!'))"
   ]
  },
  {
   "cell_type": "code",
   "execution_count": 69,
   "id": "2a4c1dc0-1e60-4d89-bf5e-29dcbd28f344",
   "metadata": {},
   "outputs": [
    {
     "data": {
      "text/plain": [
       "'\\n10.For numbers from 1 to 50:\\n\\nPrint \"Fizz\" if divisible by 3\\n\\nPrint \"Buzz\" if divisible by 5\\n\\nPrint \"FizzBuzz\" if divisible by both\\n\\nOtherwise, print the number\\n'"
      ]
     },
     "execution_count": 69,
     "metadata": {},
     "output_type": "execute_result"
    }
   ],
   "source": [
    "'''\n",
    "10.For numbers from 1 to 50:\n",
    "Print \"Fizz\" if divisible by Print \"Buzz\" if divisible by 5\n",
    "Print \"FizzBuzz\" if divisible by both\n",
    "Otherwise, print the number\n",
    "'''"
   ]
  },
  {
   "cell_type": "code",
   "execution_count": null,
   "id": "180d0693-5495-40f0-91a0-ca909834a50c",
   "metadata": {},
   "outputs": [],
   "source": []
  }
 ],
 "metadata": {
  "kernelspec": {
   "display_name": "Python 3 (ipykernel)",
   "language": "python",
   "name": "python3"
  },
  "language_info": {
   "codemirror_mode": {
    "name": "ipython",
    "version": 3
   },
   "file_extension": ".py",
   "mimetype": "text/x-python",
   "name": "python",
   "nbconvert_exporter": "python",
   "pygments_lexer": "ipython3",
   "version": "3.12.4"
  }
 },
 "nbformat": 4,
 "nbformat_minor": 5
}
