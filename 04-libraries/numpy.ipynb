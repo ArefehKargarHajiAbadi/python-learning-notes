{
 "cells": [
  {
   "cell_type": "code",
   "execution_count": 1,
   "id": "7ec19715-7bf5-4ef3-9c28-cd4cfabdb4ed",
   "metadata": {},
   "outputs": [],
   "source": [
    "#import libraries\n",
    "import numpy as np"
   ]
  },
  {
   "cell_type": "code",
   "execution_count": 25,
   "id": "e2d16581-3377-4a2d-81b8-1a1a82b5e461",
   "metadata": {},
   "outputs": [
    {
     "name": "stdout",
     "output_type": "stream",
     "text": [
      "[1 2 3 4 5]\n"
     ]
    },
    {
     "data": {
      "text/plain": [
       "numpy.ndarray"
      ]
     },
     "execution_count": 25,
     "metadata": {},
     "output_type": "execute_result"
    }
   ],
   "source": [
    "arr = np.array([1,2,3,4,5])\n",
    "print(arr)\n",
    "type(arr)"
   ]
  },
  {
   "cell_type": "code",
   "execution_count": 27,
   "id": "1f78e58b-043a-4873-8880-980055e35f98",
   "metadata": {},
   "outputs": [
    {
     "name": "stdout",
     "output_type": "stream",
     "text": [
      "6\n",
      "(6,)\n"
     ]
    }
   ],
   "source": [
    "#Excercises\n",
    "#1.Create an array with numbers from 0 to 5.\n",
    "arr = np.array([0,1,2,3,4,5])\n",
    "#2.Print the length and shape of the array.\n",
    "print(len(arr))\n",
    "print(arr.shape)"
   ]
  },
  {
   "cell_type": "code",
   "execution_count": 49,
   "id": "5bcba4e7-f759-4472-9443-334fc36c44dc",
   "metadata": {},
   "outputs": [
    {
     "name": "stdout",
     "output_type": "stream",
     "text": [
      "range:\n",
      "[0 2 4 6 8]\n",
      "zeros:\n",
      "[[0. 0. 0.]\n",
      " [0. 0. 0.]]\n",
      "ones: \n",
      "[[1. 1. 1.]\n",
      " [1. 1. 1.]\n",
      " [1. 1. 1.]]\n",
      "random values : \n",
      "[[0.70374396 0.93627408 0.86731765 0.36673146]\n",
      " [0.05162375 0.60970207 0.03682765 0.73831483]]\n"
     ]
    }
   ],
   "source": [
    "# Creating arrays\n",
    "print('range:')\n",
    "print(np.arange(0,10,2)) # range\n",
    "print('zeros:')\n",
    "print(np.zeros((2,3))) # zeros\n",
    "print('ones: ')\n",
    "print(np.ones((3,3))) #ones\n",
    "print('random values : ') \n",
    "print(np.random.rand(2,4)) # random values"
   ]
  },
  {
   "cell_type": "code",
   "execution_count": 57,
   "id": "5e683991-ed51-4d33-a733-bba708b82f66",
   "metadata": {},
   "outputs": [
    {
     "name": "stdout",
     "output_type": "stream",
     "text": [
      "random matrix:\n",
      "[[0.42755118 0.08559    0.68980548 0.63486171 0.64610914]\n",
      " [0.84533971 0.66603259 0.82754725 0.96618249 0.65651722]\n",
      " [0.21057399 0.23094161 0.6639038  0.68502566 0.94876056]\n",
      " [0.98985075 0.94286564 0.2874108  0.53460967 0.29064051]\n",
      " [0.03918774 0.62047129 0.52960643 0.70985569 0.88143388]]\n",
      "identity matrix:\n",
      "[[1. 1. 1. 1.]\n",
      " [1. 1. 1. 1.]\n",
      " [1. 1. 1. 1.]\n",
      " [1. 1. 1. 1.]]\n"
     ]
    }
   ],
   "source": [
    "#Exercises\n",
    "#1.Create a 5×5 random matrix.\n",
    "arr = np.random.rand(5,5)\n",
    "#2.Create a 4×4 identity matrix.\n",
    "arr_i = np.ones((4,4))\n",
    "print(f'random matrix:\\n{arr}\\nidentity matrix:\\n{arr_i}')"
   ]
  },
  {
   "cell_type": "code",
   "execution_count": 65,
   "id": "6658523d-1fe9-4345-8a0c-e4a8c6d09832",
   "metadata": {},
   "outputs": [
    {
     "name": "stdout",
     "output_type": "stream",
     "text": [
      "[ 0  1  2  3  4  5  6  7  8  9 10 11]\n",
      "reshape array:\n",
      "[[ 0  1  2  3]\n",
      " [ 4  5  6  7]\n",
      " [ 8  9 10 11]]\n"
     ]
    }
   ],
   "source": [
    "#Reshaping Arrays\n",
    "arr = np.arange(12)\n",
    "arr_reshape = arr.reshape(3,4)\n",
    "print(arr)\n",
    "print('reshape array:')\n",
    "print(arr_reshape)"
   ]
  },
  {
   "cell_type": "code",
   "execution_count": 75,
   "id": "b6517de0-057a-4009-b5d7-d36fb27bf19a",
   "metadata": {},
   "outputs": [
    {
     "name": "stdout",
     "output_type": "stream",
     "text": [
      "[2 3 4 5 6]\n",
      "9\n",
      "[0 1 2 3 4]\n",
      "[ 2  7 12 17 22]\n"
     ]
    }
   ],
   "source": [
    "#Indexing & Slicing\n",
    "a = np.arange(10) #a=[0,1,2,3,4,5,6,7,8,9]\n",
    "print(a[2:7]) # slicing\n",
    "print(a[-1]) # last element\n",
    "\n",
    "mat = np.arange(25).reshape(5,5)\n",
    "print(mat[0, :]) # first row\n",
    "print(mat[:, 2]) # third column"
   ]
  },
  {
   "cell_type": "code",
   "execution_count": 105,
   "id": "27226098-be64-4f7b-b687-108abe550cf0",
   "metadata": {},
   "outputs": [
    {
     "name": "stdout",
     "output_type": "stream",
     "text": [
      "[[ 0  1  2  3  4]\n",
      " [ 5  6  7  8  9]\n",
      " [10 11 12 13 14]\n",
      " [15 16 17 18 19]\n",
      " [20 21 22 23 24]] \n",
      "\n",
      "[ 1  6 11 16 21] \n",
      "\n",
      "[[10 11 12 13 14]\n",
      " [15 16 17 18 19]\n",
      " [20 21 22 23 24]]\n"
     ]
    }
   ],
   "source": [
    "# Exercises\n",
    "#1.Extract the second column of a 5×5 matrix.\n",
    "arr = np.arange(25).reshape((5,5))\n",
    "print(arr,'\\n')\n",
    "print(arr[:,1,],'\\n')\n",
    "#2.Select all numbers greater than 10.\n",
    "print(arr[2:,:])"
   ]
  },
  {
   "cell_type": "code",
   "execution_count": 107,
   "id": "5806c046-0a0e-4281-8022-3c3c929c7ae6",
   "metadata": {},
   "outputs": [
    {
     "name": "stdout",
     "output_type": "stream",
     "text": [
      "[11 22 33]\n",
      "[10 40 90]\n",
      "[3.16227766 4.47213595 5.47722558]\n"
     ]
    }
   ],
   "source": [
    "# Math Operation\n",
    "a = np.array([10,20,30])\n",
    "b = np.array([1,2,3])\n",
    "\n",
    "print(a + b)\n",
    "print(a * b)\n",
    "print(np.sqrt(a))"
   ]
  },
  {
   "cell_type": "code",
   "execution_count": 145,
   "id": "fb51d56b-6550-482b-8471-af444a17609b",
   "metadata": {},
   "outputs": [
    {
     "name": "stdout",
     "output_type": "stream",
     "text": [
      "-0.02144909879168683\n",
      "-0.06179223881555126\n",
      "0.9780901829934786\n",
      "0.9566604060682166\n",
      "-3.210626749919118\n",
      "3.0262686289978387\n"
     ]
    }
   ],
   "source": [
    "# Statistics\n",
    "arr = np.random.randn(1000)\n",
    "print(np.mean(arr))\n",
    "print(np.median(arr))\n",
    "print(np.std(arr))\n",
    "print(np.var(arr))\n",
    "print(np.min(arr))\n",
    "print(np.max(arr))"
   ]
  },
  {
   "cell_type": "code",
   "execution_count": 129,
   "id": "75c079d9-72a7-4de6-9823-e6fc9ddbc363",
   "metadata": {},
   "outputs": [
    {
     "name": "stdout",
     "output_type": "stream",
     "text": [
      "[0.         0.69314718 1.09861229 1.38629436 1.60943791]\n",
      "Mean:0.5032197071624032\n",
      "Variance:0.08728409066622309\n",
      "Standard deviation:0.29543881035880015\n"
     ]
    }
   ],
   "source": [
    "# Excersies\n",
    "#1.Create an array [1, 2, 3, 4, 5] and calculate the natural log of each element.\n",
    "arr = np.array([1,2,3,4,5])\n",
    "arr_ln = np.log(arr)\n",
    "print(arr_ln)\n",
    "#2.Generate 100 random numbers and compute mean, variance, and standard deviation.\n",
    "arr_rand = np.random.rand(100)\n",
    "mean_of_numbers = np.mean(arr_rand)\n",
    "variance_of_numbers = np.var(arr_rand)\n",
    "std_of_numbers = np.std(arr_rand)\n",
    "print(f'Mean:{mean_of_numbers}\\nVariance:{variance_of_numbers}\\nStandard deviation:{std_of_numbers}')"
   ]
  },
  {
   "cell_type": "code",
   "execution_count": 161,
   "id": "070dbdac-c329-43e4-b8ec-8cff9e6fa5a8",
   "metadata": {},
   "outputs": [
    {
     "name": "stdout",
     "output_type": "stream",
     "text": [
      "[[19 22]\n",
      " [43 50]]\n",
      "[[19 22]\n",
      " [43 50]]\n",
      "-2.0000000000000004\n",
      "[[-2.   1. ]\n",
      " [ 1.5 -0.5]]\n",
      "[[1 3]\n",
      " [2 4]]\n"
     ]
    }
   ],
   "source": [
    "#Matrix operations\n",
    "A = np.array([[1,2],[3,4]])\n",
    "B = np.array([[5,6],[7,8]])\n",
    "print(np.dot(A, B)) #matrix multiplication\n",
    "print(A @ B) #alternative syntax\n",
    "print(np.linalg.det(A)) #determinant\n",
    "print(np.linalg.inv(A)) # inverse of matrix\n",
    "print(A.T) #"
   ]
  },
  {
   "cell_type": "code",
   "execution_count": null,
   "id": "50bd6242-e0d3-49ff-b0d3-500c8f123eca",
   "metadata": {},
   "outputs": [],
   "source": []
  }
 ],
 "metadata": {
  "kernelspec": {
   "display_name": "Python 3 (ipykernel)",
   "language": "python",
   "name": "python3"
  },
  "language_info": {
   "codemirror_mode": {
    "name": "ipython",
    "version": 3
   },
   "file_extension": ".py",
   "mimetype": "text/x-python",
   "name": "python",
   "nbconvert_exporter": "python",
   "pygments_lexer": "ipython3",
   "version": "3.12.4"
  }
 },
 "nbformat": 4,
 "nbformat_minor": 5
}
