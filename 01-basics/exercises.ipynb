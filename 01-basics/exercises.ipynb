{
 "cells": [
  {
   "cell_type": "markdown",
   "id": "7abf1927-db82-4cc1-a998-30243aff73f5",
   "metadata": {},
   "source": [
    "# Exercises for Basics\n",
    "- Create two variables x = 8 and y = 12. Print their sum, difference, product, and quotient."
   ]
  },
  {
   "cell_type": "code",
   "execution_count": 10,
   "id": "ff6a4c27-708f-4c55-8300-c62794146271",
   "metadata": {},
   "outputs": [
    {
     "name": "stdout",
     "output_type": "stream",
     "text": [
      "sum of 8,12 = 20\n",
      "difference of 8,12 = -4\n",
      "product of 8,12 = 96\n",
      "product of 8,12 = 0.6666666666666666\n"
     ]
    }
   ],
   "source": [
    "x = 8\n",
    "y = 12\n",
    "sum = x + y\n",
    "difference = x - y\n",
    "product = x*y\n",
    "quotient = x / y\n",
    "print(f'sum of {x},{y} = {sum}')\n",
    "print(f'difference of {x},{y} = {difference}')\n",
    "print(f'product of {x},{y} = {product}')\n",
    "print(f'product of {x},{y} = {quotient}')"
   ]
  },
  {
   "cell_type": "markdown",
   "id": "9869985e-339a-4934-b940-867cf7f1a16e",
   "metadata": {},
   "source": [
    "- Store your first name and last name in two variables. Print your full name in one line."
   ]
  },
  {
   "cell_type": "code",
   "execution_count": 17,
   "id": "bd267cfe-d9ae-4403-a499-1d32bb2ef8e1",
   "metadata": {},
   "outputs": [
    {
     "name": "stdout",
     "output_type": "stream",
     "text": [
      "My fullname is Arefeh , KargarHajiAbadi\n"
     ]
    }
   ],
   "source": [
    "first_name = 'Arefeh'\n",
    "last_name = 'KargarHajiAbadi'\n",
    "print(f'My fullname is {first_name} , {last_name}')"
   ]
  },
  {
   "cell_type": "markdown",
   "id": "882d2fa6-68e4-4f50-a2b9-e7912f232961",
   "metadata": {},
   "source": [
    "- Create a variable `pi = 3.14159`. Convert it to an integer and print both values."
   ]
  },
  {
   "cell_type": "code",
   "execution_count": 21,
   "id": "9ac1e465-04c8-4d92-b662-28abe92af520",
   "metadata": {},
   "outputs": [
    {
     "name": "stdout",
     "output_type": "stream",
     "text": [
      "float numebr is : 3.14159 , int of number is : 3\n"
     ]
    }
   ],
   "source": [
    "pi = 3.14159\n",
    "pi_int =int(pi)\n",
    "print(f'float numebr is : {pi} , int of number is : {pi_int}')"
   ]
  },
  {
   "cell_type": "markdown",
   "id": "6383dd8f-933c-4e76-9da8-63780f005a8d",
   "metadata": {},
   "source": [
    "- Given:\n",
    "```python\n",
    "a = 42\n",
    "b = \"Python\"\n",
    "c = True\n",
    "```\n",
    "\n",
    "Print the type of each variable using type()."
   ]
  },
  {
   "cell_type": "code",
   "execution_count": 28,
   "id": "db35862c-a97d-4d26-bb32-e32ca3362b9e",
   "metadata": {},
   "outputs": [
    {
     "name": "stdout",
     "output_type": "stream",
     "text": [
      "type of a is :<class 'int'>\n",
      "type of b is <class 'str'>\n",
      "type of c is <class 'bool'>\n"
     ]
    }
   ],
   "source": [
    "a = 42\n",
    "b = \"Python\"\n",
    "c = True\n",
    "print(f'type of a is :{type(a)}\\ntype of b is {type(b)}\\ntype of c is {type(c)}')"
   ]
  },
  {
   "cell_type": "markdown",
   "id": "301faf94-4b3d-47a1-80d7-ee7f7185566a",
   "metadata": {},
   "source": [
    "- Ask the user for their name and print:"
   ]
  },
  {
   "cell_type": "code",
   "execution_count": 33,
   "id": "d7ec9d64-6e6b-4bbb-8957-fc387f3d33b6",
   "metadata": {},
   "outputs": [
    {
     "name": "stdin",
     "output_type": "stream",
     "text": [
      "Enter your name please: Arefeh\n"
     ]
    },
    {
     "name": "stdout",
     "output_type": "stream",
     "text": [
      "Hello Arefeh, nice to meet you!\n"
     ]
    }
   ],
   "source": [
    "name =input(\"Enter your name please:\")\n",
    "print(f'Hello {name}, nice to meet you!')"
   ]
  },
  {
   "cell_type": "markdown",
   "id": "88087da4-4e14-4ce6-9f0a-a9a17a8cb7f8",
   "metadata": {},
   "source": [
    "- Ask the user for two numbers, add them, and print the result."
   ]
  },
  {
   "cell_type": "code",
   "execution_count": 43,
   "id": "e943305a-c001-4394-a852-0eff71d07cba",
   "metadata": {},
   "outputs": [
    {
     "name": "stdin",
     "output_type": "stream",
     "text": [
      "Enter your first number 12\n",
      "Enter your second number 3\n"
     ]
    },
    {
     "name": "stdout",
     "output_type": "stream",
     "text": [
      "sum of 2 numbers is 15.0\n"
     ]
    }
   ],
   "source": [
    "first_number = float(input('Enter your first number'))\n",
    "second_number = float(input('Enter your second number'))\n",
    "sum = first_number + second_number\n",
    "print(f'sum of 2 numbers is {sum}')"
   ]
  },
  {
   "cell_type": "markdown",
   "id": "9cf66f84-818c-4ccb-8b76-f68dff22df41",
   "metadata": {},
   "source": [
    "- Write a program to calculate the area of a rectangle. Ask the user for width and height as input"
   ]
  },
  {
   "cell_type": "code",
   "execution_count": 48,
   "id": "d5c0d576-73ee-4a70-9d2c-de08a884e1c0",
   "metadata": {},
   "outputs": [
    {
     "name": "stdin",
     "output_type": "stream",
     "text": [
      "Enter height of rectangle 3\n",
      "Enter width of rectangle 4\n"
     ]
    },
    {
     "name": "stdout",
     "output_type": "stream",
     "text": [
      "Area of rectangle 12.0\n"
     ]
    }
   ],
   "source": [
    "height = float(input('Enter height of rectangle'))\n",
    "width = float(input('Enter width of rectangle'))\n",
    "area = height * width\n",
    "print(f'Area of rectangle {area}')"
   ]
  },
  {
   "cell_type": "code",
   "execution_count": null,
   "id": "390ecee8-1c45-441f-b7fb-932f29b2d357",
   "metadata": {},
   "outputs": [],
   "source": []
  }
 ],
 "metadata": {
  "kernelspec": {
   "display_name": "Python 3 (ipykernel)",
   "language": "python",
   "name": "python3"
  },
  "language_info": {
   "codemirror_mode": {
    "name": "ipython",
    "version": 3
   },
   "file_extension": ".py",
   "mimetype": "text/x-python",
   "name": "python",
   "nbconvert_exporter": "python",
   "pygments_lexer": "ipython3",
   "version": "3.12.4"
  }
 },
 "nbformat": 4,
 "nbformat_minor": 5
}
