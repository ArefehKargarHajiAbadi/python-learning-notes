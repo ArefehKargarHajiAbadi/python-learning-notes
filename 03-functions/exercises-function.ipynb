{
 "cells": [
  {
   "cell_type": "markdown",
   "id": "33df31ef-e79b-49db-b2d7-f89becf3d334",
   "metadata": {},
   "source": [
    " # 1.Simple Function\n",
    "- Write a function greet(name) that takes a name as input and prints \"Hello, name!\""
   ]
  },
  {
   "cell_type": "code",
   "execution_count": 6,
   "id": "accb4ce3-63a0-4f75-a17f-7b588456d9c6",
   "metadata": {},
   "outputs": [
    {
     "name": "stdout",
     "output_type": "stream",
     "text": [
      "Hello Arefeh!\n"
     ]
    }
   ],
   "source": [
    "def greet(name):\n",
    "    print(f'Hello, {name}!')\n",
    "greet('Arefeh')"
   ]
  },
  {
   "cell_type": "markdown",
   "id": "54a51562-2b22-4f6e-97a1-122510a8f06d",
   "metadata": {},
   "source": [
    "# 2.Return Value\n",
    "- Write a function square(x) that returns the square of a number."
   ]
  },
  {
   "cell_type": "code",
   "execution_count": 12,
   "id": "3df4c62b-cf2e-4ad3-b524-4a0b9195e461",
   "metadata": {},
   "outputs": [
    {
     "data": {
      "text/plain": [
       "9"
      ]
     },
     "execution_count": 12,
     "metadata": {},
     "output_type": "execute_result"
    }
   ],
   "source": [
    "def square(x):\n",
    "    return x ** 2\n",
    "square(3)"
   ]
  },
  {
   "cell_type": "markdown",
   "id": "63338498-c2ab-4c1b-baf4-f4029817d45e",
   "metadata": {},
   "source": [
    "# 3.Default Argument\n",
    "- Write a function power(base, exponent=2) that returns: $base^ {exponent}$"
   ]
  },
  {
   "cell_type": "code",
   "execution_count": 27,
   "id": "465e6d80-e962-4b37-a421-f403a5d10ade",
   "metadata": {},
   "outputs": [
    {
     "data": {
      "text/plain": [
       "81"
      ]
     },
     "execution_count": 27,
     "metadata": {},
     "output_type": "execute_result"
    }
   ],
   "source": [
    "def power(base, exponent=2):\n",
    "    return base ** exponent\n",
    "power(9)"
   ]
  },
  {
   "cell_type": "markdown",
   "id": "919ae8e9-f284-44bc-9190-e2a3450e09da",
   "metadata": {},
   "source": [
    "# 4.Keyword Argument\n",
    "\n",
    "- Call the power function using keyword arguments, e.g., power(exponent=3, base=2)."
   ]
  },
  {
   "cell_type": "code",
   "execution_count": 36,
   "id": "a77012b1-81f0-4f8e-b6d6-502f5dea574f",
   "metadata": {},
   "outputs": [
    {
     "name": "stdout",
     "output_type": "stream",
     "text": [
      "8\n",
      "2\n"
     ]
    }
   ],
   "source": [
    "def power(exponent=3, base=2):\n",
    "    return base ** exponent\n",
    "print(power())\n",
    "print(power(1))\n",
    "print()"
   ]
  },
  {
   "cell_type": "markdown",
   "id": "7b953306-1506-4704-a799-2fb848d8ef77",
   "metadata": {},
   "source": [
    "# 5.Lambda Function\n",
    "\n",
    "- Create a lambda function add that takes two arguments and returns their sum."
   ]
  },
  {
   "cell_type": "code",
   "execution_count": 41,
   "id": "a4792183-4560-45e6-b6c4-dba8c466f7c7",
   "metadata": {},
   "outputs": [
    {
     "name": "stdout",
     "output_type": "stream",
     "text": [
      "8\n"
     ]
    }
   ],
   "source": [
    "add = lambda a, b : a + b\n",
    "res = add(5, 3)\n",
    "print(res)"
   ]
  },
  {
   "cell_type": "markdown",
   "id": "4003bee9-cd54-409e-b54d-00219205760d",
   "metadata": {},
   "source": [
    "# 6. List Transformation with Lambda\n",
    "\n",
    "- Given a list [1,2,3,4,5], use map and a lambda function to create a list of their cubes."
   ]
  },
  {
   "cell_type": "code",
   "execution_count": 46,
   "id": "264af86b-4de0-478f-83b9-69b98c2943df",
   "metadata": {},
   "outputs": [
    {
     "name": "stdout",
     "output_type": "stream",
     "text": [
      "[1, 8, 27, 64, 125]\n"
     ]
    }
   ],
   "source": [
    "lst = [1,2,3,4,5]\n",
    "cube = list(map(lambda x: x**3,lst ))\n",
    "print(cube)"
   ]
  },
  {
   "cell_type": "markdown",
   "id": "542b3d29-3908-4b51-97f2-c245e8599c1e",
   "metadata": {},
   "source": [
    "# 7. Local vs Global\n",
    "\n",
    "- Write a function that increments a global counter variable by 1 each time it is called."
   ]
  },
  {
   "cell_type": "code",
   "execution_count": 49,
   "id": "20f5d20a-59fe-4ece-93c0-7ec7cd8f7331",
   "metadata": {},
   "outputs": [
    {
     "name": "stdout",
     "output_type": "stream",
     "text": [
      "1\n",
      "2\n",
      "3\n"
     ]
    }
   ],
   "source": [
    "count = 0 \n",
    "def increments_counter():\n",
    "    global count #tell python we want use the global variable\n",
    "    count += 1\n",
    "    return count\n",
    "\n",
    "print(increments_counter()) \n",
    "print(increments_counter()) \n",
    "print(increments_counter()) "
   ]
  },
  {
   "cell_type": "markdown",
   "id": "f367f93e-3064-4e5f-8d4c-36d4f410b162",
   "metadata": {},
   "source": [
    "# 8.Docstring\n",
    "- Write a function multiply(a, b) with a proper docstring explaining its purpose and parameters"
   ]
  },
  {
   "cell_type": "code",
   "execution_count": 52,
   "id": "9065bc8e-16c7-4086-913b-6e5ecf6b7561",
   "metadata": {},
   "outputs": [
    {
     "name": "stdout",
     "output_type": "stream",
     "text": [
      "20\n",
      "Help on function multiply in module __main__:\n",
      "\n",
      "multiply(a, b)\n",
      "    Multiply two numbers and return the result.\n",
      "\n",
      "    Parameters:\n",
      "        a (int or float): The first number.\n",
      "        b (int or float): The second number.\n",
      "\n",
      "\n",
      "    Returns:\n",
      "        int or float: The product of a and b.\n",
      "\n"
     ]
    }
   ],
   "source": [
    "def multiply(a, b):\n",
    "    \"\"\"\n",
    "    Multiply two numbers and return the result.\n",
    "\n",
    "    Parameters:\n",
    "        a (int or float): The first number.\n",
    "        b (int or float): The second number.\n",
    "\n",
    "\n",
    "    Returns:\n",
    "        int or float: The product of a and b.\n",
    "    \"\"\"\n",
    "    return a * b\n",
    "result = multiply(4, 5)\n",
    "print(result) \n",
    "\n",
    "# check the docstring using help():\n",
    "help(multiply)"
   ]
  },
  {
   "cell_type": "markdown",
   "id": "7853a96a-c0e2-4f8e-bcb0-52cbdb7bfc3e",
   "metadata": {},
   "source": [
    "# 9.Multiple Returns\n",
    "\n",
    "- Write a function stats(numbers) that returns the sum, mean, and max of a list of numbers."
   ]
  },
  {
   "cell_type": "code",
   "execution_count": 67,
   "id": "1edd8be8-3b1b-4e9e-9f06-d739c896ac7d",
   "metadata": {},
   "outputs": [
    {
     "name": "stdout",
     "output_type": "stream",
     "text": [
      "(150, 30.0, 50)\n"
     ]
    }
   ],
   "source": [
    "\n",
    "def stats(numbers):\n",
    "    \"\"\"\n",
    "    Calculate and return the sum, mean, and maximum value of a list of numbers.\n",
    "\n",
    "    Parameters:\n",
    "        numbers (list): A list of numeric values.\n",
    "\n",
    "    Returns:\n",
    "        tuple: (total_sum, average, maximum)\n",
    "    \"\"\"\n",
    "    total_sum = sum(numbers)\n",
    "    average = total_sum / len(numbers)\n",
    "    maximum = max(numbers)\n",
    "    return total_sum, average, maximum\n",
    "\n",
    "\n",
    "data = [10, 20, 30, 40, 50]\n",
    "result = stats(data)\n",
    "print(result)  \n"
   ]
  }
 ],
 "metadata": {
  "kernelspec": {
   "display_name": "Python 3 (ipykernel)",
   "language": "python",
   "name": "python3"
  },
  "language_info": {
   "codemirror_mode": {
    "name": "ipython",
    "version": 3
   },
   "file_extension": ".py",
   "mimetype": "text/x-python",
   "name": "python",
   "nbconvert_exporter": "python",
   "pygments_lexer": "ipython3",
   "version": "3.12.4"
  }
 },
 "nbformat": 4,
 "nbformat_minor": 5
}
